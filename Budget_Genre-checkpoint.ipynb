{
 "cells": [
  {
   "cell_type": "code",
   "execution_count": 159,
   "metadata": {},
   "outputs": [],
   "source": [
    "import pandas as pd \n",
    "import matplotlib.pyplot as plt\n",
    "%matplotlib inline\n",
    "import seaborn as sns"
   ]
  },
  {
   "cell_type": "code",
   "execution_count": 160,
   "metadata": {},
   "outputs": [],
   "source": [
    "Budget_clean = pd.read_csv('Budget_clean.csv', index_col = [0])"
   ]
  },
  {
   "cell_type": "code",
   "execution_count": 161,
   "metadata": {},
   "outputs": [],
   "source": [
    "OpusGenre_clean = pd.read_csv('OpusGenre_clean.csv', index_col = [0])"
   ]
  },
  {
   "cell_type": "code",
   "execution_count": 162,
   "metadata": {},
   "outputs": [
    {
     "data": {
      "text/html": [
       "<div>\n",
       "<style scoped>\n",
       "    .dataframe tbody tr th:only-of-type {\n",
       "        vertical-align: middle;\n",
       "    }\n",
       "\n",
       "    .dataframe tbody tr th {\n",
       "        vertical-align: top;\n",
       "    }\n",
       "\n",
       "    .dataframe thead th {\n",
       "        text-align: right;\n",
       "    }\n",
       "</style>\n",
       "<table border=\"1\" class=\"dataframe\">\n",
       "  <thead>\n",
       "    <tr style=\"text-align: right;\">\n",
       "      <th></th>\n",
       "      <th>Release Date</th>\n",
       "      <th>Movie</th>\n",
       "      <th>Budget</th>\n",
       "      <th>Domestic Gross</th>\n",
       "      <th>Worldwide Gross</th>\n",
       "      <th>Year</th>\n",
       "      <th>Week</th>\n",
       "      <th>Dom_Profits</th>\n",
       "      <th>WW_Profits</th>\n",
       "    </tr>\n",
       "  </thead>\n",
       "  <tbody>\n",
       "    <tr>\n",
       "      <th>0</th>\n",
       "      <td>2009-12-18</td>\n",
       "      <td>Avatar</td>\n",
       "      <td>425000000</td>\n",
       "      <td>760507625</td>\n",
       "      <td>2789705275</td>\n",
       "      <td>2009</td>\n",
       "      <td>51</td>\n",
       "      <td>335507625</td>\n",
       "      <td>2364705275</td>\n",
       "    </tr>\n",
       "  </tbody>\n",
       "</table>\n",
       "</div>"
      ],
      "text/plain": [
       "  Release Date   Movie     Budget  Domestic Gross  Worldwide Gross  Year  \\\n",
       "0   2009-12-18  Avatar  425000000       760507625       2789705275  2009   \n",
       "\n",
       "   Week  Dom_Profits  WW_Profits  \n",
       "0    51    335507625  2364705275  "
      ]
     },
     "execution_count": 162,
     "metadata": {},
     "output_type": "execute_result"
    }
   ],
   "source": [
    "Budget_clean.head(1)"
   ]
  },
  {
   "cell_type": "code",
   "execution_count": 163,
   "metadata": {},
   "outputs": [
    {
     "data": {
      "text/html": [
       "<div>\n",
       "<style scoped>\n",
       "    .dataframe tbody tr th:only-of-type {\n",
       "        vertical-align: middle;\n",
       "    }\n",
       "\n",
       "    .dataframe tbody tr th {\n",
       "        vertical-align: top;\n",
       "    }\n",
       "\n",
       "    .dataframe thead th {\n",
       "        text-align: right;\n",
       "    }\n",
       "</style>\n",
       "<table border=\"1\" class=\"dataframe\">\n",
       "  <thead>\n",
       "    <tr style=\"text-align: right;\">\n",
       "      <th></th>\n",
       "      <th>movie_name</th>\n",
       "      <th>genre</th>\n",
       "    </tr>\n",
       "  </thead>\n",
       "  <tbody>\n",
       "    <tr>\n",
       "      <th>0</th>\n",
       "      <td>Madea's Family Reunion</td>\n",
       "      <td>Comedy</td>\n",
       "    </tr>\n",
       "  </tbody>\n",
       "</table>\n",
       "</div>"
      ],
      "text/plain": [
       "               movie_name   genre\n",
       "0  Madea's Family Reunion  Comedy"
      ]
     },
     "execution_count": 163,
     "metadata": {},
     "output_type": "execute_result"
    }
   ],
   "source": [
    "OpusGenre_clean.head(1)"
   ]
  },
  {
   "cell_type": "code",
   "execution_count": 164,
   "metadata": {},
   "outputs": [],
   "source": [
    "#merge the Budget and OpusGenre dataframes over the movie titles found in BOTH dataframes\n",
    "Budget_Genre = pd.merge(Budget_clean, OpusGenre_clean, left_on='Movie', right_on = 'movie_name', how='inner')"
   ]
  },
  {
   "cell_type": "code",
   "execution_count": 166,
   "metadata": {},
   "outputs": [
    {
     "data": {
      "text/plain": [
       "(1388, 11)"
      ]
     },
     "execution_count": 166,
     "metadata": {},
     "output_type": "execute_result"
    }
   ],
   "source": [
    "#Check how many data points this leaves me with 1388\n",
    "Budget_Genre.shape"
   ]
  },
  {
   "cell_type": "code",
   "execution_count": 167,
   "metadata": {},
   "outputs": [
    {
     "data": {
      "text/html": [
       "<div>\n",
       "<style scoped>\n",
       "    .dataframe tbody tr th:only-of-type {\n",
       "        vertical-align: middle;\n",
       "    }\n",
       "\n",
       "    .dataframe tbody tr th {\n",
       "        vertical-align: top;\n",
       "    }\n",
       "\n",
       "    .dataframe thead th {\n",
       "        text-align: right;\n",
       "    }\n",
       "</style>\n",
       "<table border=\"1\" class=\"dataframe\">\n",
       "  <thead>\n",
       "    <tr style=\"text-align: right;\">\n",
       "      <th></th>\n",
       "      <th>Release Date</th>\n",
       "      <th>Movie</th>\n",
       "      <th>Budget</th>\n",
       "      <th>Domestic Gross</th>\n",
       "      <th>Worldwide Gross</th>\n",
       "      <th>Year</th>\n",
       "      <th>Week</th>\n",
       "      <th>Dom_Profits</th>\n",
       "      <th>WW_Profits</th>\n",
       "      <th>movie_name</th>\n",
       "      <th>genre</th>\n",
       "    </tr>\n",
       "  </thead>\n",
       "  <tbody>\n",
       "    <tr>\n",
       "      <th>0</th>\n",
       "      <td>2009-12-18</td>\n",
       "      <td>Avatar</td>\n",
       "      <td>425000000</td>\n",
       "      <td>760507625</td>\n",
       "      <td>2789705275</td>\n",
       "      <td>2009</td>\n",
       "      <td>51</td>\n",
       "      <td>335507625</td>\n",
       "      <td>2364705275</td>\n",
       "      <td>Avatar</td>\n",
       "      <td>Action</td>\n",
       "    </tr>\n",
       "  </tbody>\n",
       "</table>\n",
       "</div>"
      ],
      "text/plain": [
       "  Release Date   Movie     Budget  Domestic Gross  Worldwide Gross  Year  \\\n",
       "0   2009-12-18  Avatar  425000000       760507625       2789705275  2009   \n",
       "\n",
       "   Week  Dom_Profits  WW_Profits movie_name   genre  \n",
       "0    51    335507625  2364705275     Avatar  Action  "
      ]
     },
     "execution_count": 167,
     "metadata": {},
     "output_type": "execute_result"
    }
   ],
   "source": [
    "Budget_Genre.head(1)"
   ]
  },
  {
   "cell_type": "code",
   "execution_count": 168,
   "metadata": {},
   "outputs": [],
   "source": [
    "#add % ROI column \n",
    "Budget_Genre['%ROI'] = (Budget_Genre['Dom_Profits'] / Budget_Genre['Budget'])*100"
   ]
  },
  {
   "cell_type": "code",
   "execution_count": 174,
   "metadata": {},
   "outputs": [],
   "source": [
    "# Add a KEY to use with CE IMDB data Late on in his analysis\n",
    "Budget_Genre['KEY'] = Budget_Genre[\"Movie\"] +' - ' +Budget_Genre[\"Year\"].map(str)"
   ]
  },
  {
   "cell_type": "code",
   "execution_count": 175,
   "metadata": {},
   "outputs": [
    {
     "data": {
      "text/html": [
       "<div>\n",
       "<style scoped>\n",
       "    .dataframe tbody tr th:only-of-type {\n",
       "        vertical-align: middle;\n",
       "    }\n",
       "\n",
       "    .dataframe tbody tr th {\n",
       "        vertical-align: top;\n",
       "    }\n",
       "\n",
       "    .dataframe thead th {\n",
       "        text-align: right;\n",
       "    }\n",
       "</style>\n",
       "<table border=\"1\" class=\"dataframe\">\n",
       "  <thead>\n",
       "    <tr style=\"text-align: right;\">\n",
       "      <th></th>\n",
       "      <th>Release Date</th>\n",
       "      <th>Movie</th>\n",
       "      <th>Budget</th>\n",
       "      <th>Domestic Gross</th>\n",
       "      <th>Worldwide Gross</th>\n",
       "      <th>Year</th>\n",
       "      <th>Week</th>\n",
       "      <th>Dom_Profits</th>\n",
       "      <th>WW_Profits</th>\n",
       "      <th>movie_name</th>\n",
       "      <th>genre</th>\n",
       "      <th>%ROI</th>\n",
       "      <th>KEY</th>\n",
       "    </tr>\n",
       "  </thead>\n",
       "  <tbody>\n",
       "    <tr>\n",
       "      <th>0</th>\n",
       "      <td>2009-12-18</td>\n",
       "      <td>Avatar</td>\n",
       "      <td>425000000</td>\n",
       "      <td>760507625</td>\n",
       "      <td>2789705275</td>\n",
       "      <td>2009</td>\n",
       "      <td>51</td>\n",
       "      <td>335507625</td>\n",
       "      <td>2364705275</td>\n",
       "      <td>Avatar</td>\n",
       "      <td>Action</td>\n",
       "      <td>78.942971</td>\n",
       "      <td>Avatar - 2009</td>\n",
       "    </tr>\n",
       "  </tbody>\n",
       "</table>\n",
       "</div>"
      ],
      "text/plain": [
       "  Release Date   Movie     Budget  Domestic Gross  Worldwide Gross  Year  \\\n",
       "0   2009-12-18  Avatar  425000000       760507625       2789705275  2009   \n",
       "\n",
       "   Week  Dom_Profits  WW_Profits movie_name   genre       %ROI            KEY  \n",
       "0    51    335507625  2364705275     Avatar  Action  78.942971  Avatar - 2009  "
      ]
     },
     "execution_count": 175,
     "metadata": {},
     "output_type": "execute_result"
    }
   ],
   "source": [
    "Budget_Genre.head(1)"
   ]
  },
  {
   "cell_type": "code",
   "execution_count": 176,
   "metadata": {},
   "outputs": [],
   "source": [
    "#Make a sub df of Genre and ROI\n",
    "bud_gen_only = Budget_Genre[['genre', '%ROI']]\n",
    "#Grouped by Genre and Calculated the ROI\n",
    "bud_gen_only_med = bud_gen_only.groupby('genre').median()\n",
    "#Sorted the df by Median ROIs\n",
    "bud_gen_only_med.sort_values('%ROI', inplace = True)\n",
    "#saved the sorted genres as a list to feed into plot order\n",
    "gen_by_roi = bud_gen_only_med.index.tolist()\n"
   ]
  },
  {
   "cell_type": "code",
   "execution_count": 181,
   "metadata": {},
   "outputs": [
    {
     "data": {
      "text/plain": [
       "['Documentary',\n",
       " 'Drama',\n",
       " 'Action',\n",
       " 'Thriller/Suspense',\n",
       " 'Western',\n",
       " 'Adventure',\n",
       " 'Horror',\n",
       " 'Black Comedy',\n",
       " 'Romantic Comedy',\n",
       " 'Comedy',\n",
       " 'Musical']"
      ]
     },
     "execution_count": 181,
     "metadata": {},
     "output_type": "execute_result"
    }
   ],
   "source": [
    "#Check my list \n",
    "gen_by_roi"
   ]
  },
  {
   "cell_type": "code",
   "execution_count": 182,
   "metadata": {},
   "outputs": [],
   "source": [
    "gen_by_roi.reverse()"
   ]
  },
  {
   "cell_type": "code",
   "execution_count": 183,
   "metadata": {},
   "outputs": [
    {
     "data": {
      "image/png": "[encoded data removed]",
      "text/plain": [
       "<Figure size 1440x864 with 1 Axes>"
      ]
     },
     "metadata": {
      "needs_background": "light"
     },
     "output_type": "display_data"
    }
   ],
   "source": [
    "#plot %ROI by Genre ordered by Median %ROI\n",
    "\n",
    "\n",
    "#set figure size\n",
    "plt.figure(figsize=(20,12))\n",
    "#set context and xtick size so that they werent overlapping in the image\n",
    "sns.set_context(\"paper\", rc={'xtick.labelsize': 12.0})\n",
    "#set the window\n",
    "plt.ylim(-125, 700)\n",
    "#make sure grid axis were visable\n",
    "plt.grid(b=True, which='major', axis='both')\n",
    "#Make the plot using seaborn\n",
    "ax = sns.boxplot(x=\"genre\", y=\"%ROI\", data=Budget_Genre, palette=\"Greens_r\", showfliers=True, order = gen_by_roi).set(xlabel='', ylabel='Percent Return on Invenstment')\n",
    "#make a horizontal line in red for the breakeven point ROI% = 0\n",
    "plt.axhline(y=0, color = \"Red\", label = \"Break Even\", lw = 3)\n",
    "#add title to plot\n",
    "plt.figtext(.5,.9,'Percentage Return on Investment from 2006 - 2018 by Genre', fontsize=25, ha='center')\n",
    "#save the plot\n",
    "plt.savefig('ROI_by_Genre.jpg')\n",
    "#show the plot\n",
    "plt.show()"
   ]
  },
  {
   "cell_type": "code",
   "execution_count": 193,
   "metadata": {},
   "outputs": [],
   "source": [
    "#pull dataframw containing jsut the comedies\n",
    "Comedies = Budget_Genre[Budget_Genre.genre.isin(['Comedy','Romantic Comedy', 'Black Comedy'])]"
   ]
  },
  {
   "cell_type": "code",
   "execution_count": 194,
   "metadata": {},
   "outputs": [
    {
     "data": {
      "text/plain": [
       "(278, 13)"
      ]
     },
     "execution_count": 194,
     "metadata": {},
     "output_type": "execute_result"
    }
   ],
   "source": [
    "#cheack how many datapoints i will be working with\n",
    "Comedies.shape"
   ]
  },
  {
   "cell_type": "code",
   "execution_count": 195,
   "metadata": {},
   "outputs": [],
   "source": [
    "#set the median of the %roi\n",
    "med = Comedies['Budget'].median()"
   ]
  },
  {
   "cell_type": "code",
   "execution_count": 196,
   "metadata": {},
   "outputs": [],
   "source": [
    "#set the standard deviation of the %roi\n",
    "sig = Comedies['Budget'].std()"
   ]
  },
  {
   "cell_type": "code",
   "execution_count": 197,
   "metadata": {},
   "outputs": [],
   "source": [
    "#make a list of my possible outcomes of the following function  will late be used in creating a color palette\n",
    "outcomes = ['Below {} million'.format(int((med - sig * .5)/1000000)), \n",
    "            'Between {} to {} million'.format(int((med - sig * .5)/1000000), int((med + sig * .5)/1000000)), \n",
    "            'Above {} million'.format(int((med + sig * .5)/1000000))]"
   ]
  },
  {
   "cell_type": "code",
   "execution_count": 198,
   "metadata": {},
   "outputs": [],
   "source": [
    "#functiont that groups movies into 3 categories in comparison to the med and an interval of std/2 \n",
    "def BOA_med(amount):\n",
    "    if amount <= med - sig * .5:\n",
    "        return 'Below {} million'.format(int((med - sig * .5)/1000000))\n",
    "    elif amount <=  med + sig * .5:\n",
    "        return 'Between {} to {} million'.format(int((med - sig * .5)/1000000), int((med + sig * .5)/1000000))\n",
    "    elif amount > med + sig * .5:\n",
    "        return 'Above {} million'.format(int((med + sig * .5)/1000000))"
   ]
  },
  {
   "cell_type": "code",
   "execution_count": 199,
   "metadata": {},
   "outputs": [
    {
     "name": "stderr",
     "output_type": "stream",
     "text": [
      "/anaconda3/lib/python3.7/site-packages/ipykernel_launcher.py:2: SettingWithCopyWarning: \n",
      "A value is trying to be set on a copy of a slice from a DataFrame.\n",
      "Try using .loc[row_indexer,col_indexer] = value instead\n",
      "\n",
      "See the caveats in the documentation: http://pandas.pydata.org/pandas-docs/stable/indexing.html#indexing-view-versus-copy\n",
      "  \n"
     ]
    }
   ],
   "source": [
    "#creates a new column in comedies to house the outcome of the function\n",
    "Comedies['Interval'] = Comedies['Budget'].apply(lambda x: BOA_med(x))"
   ]
  },
  {
   "cell_type": "code",
   "execution_count": 200,
   "metadata": {},
   "outputs": [
    {
     "data": {
      "image/png": "[encoded data removed]",
      "text/plain": [
       "<Figure size 1152x720 with 1 Axes>"
      ]
     },
     "metadata": {
      "needs_background": "light"
     },
     "output_type": "display_data"
    }
   ],
   "source": [
    "#Plot figure\n",
    "\n",
    "#set plot size\n",
    "fig= plt.figure(figsize=(16,10))\n",
    "#create dictionary color palette to use in ploy based on outcome from function\n",
    "my_pal = {outcomes[0]: \"green\",\n",
    "         outcomes[1]: \"darkgreen\",\n",
    "         outcomes[2]: \"lightgreen\"}\n",
    "#make th plot\n",
    "bplot = sns.boxplot(y='%ROI', x='Interval', \n",
    "                 data=Comedies, \n",
    "                 width=0.5,\n",
    "                 palette = my_pal, \n",
    "                 order = ['Below {} million'.format(int((med - sig * .5)/1000000)), 'Between {} to {} million'.format(int((med - sig * .5)/1000000), int((med + sig * .5)/1000000)), 'Above {} million'.format(int((med + sig * .5)/1000000))]).set(xlabel = \"Production Budget\")\n",
    "#change x-tick label size to be readable\n",
    "sns.set_context(\"paper\", rc={'xtick.labelsize': 14.0})\n",
    "#set window frame\n",
    "plt.ylim(-110, 700)\n",
    "plt.rcParams[\"axes.labelsize\"] = 18\n",
    "#set title\n",
    "plt.figtext(.5,.9,'Percentage Return on Investment by Budget', fontsize=25, ha='center')\n",
    "#make grid visable\n",
    "plt.grid(b=True, which='major', axis='both')\n",
    "#created red breakeven line aat %ROI = 0 \n",
    "plt.axhline(y=0, color = \"red\", label = \"\", lw = 3)\n",
    "#save the figure\n",
    "plt.savefig('ROI_by_Compared_Med.jpeg');"
   ]
  },
  {
   "cell_type": "code",
   "execution_count": null,
   "metadata": {},
   "outputs": [],
   "source": []
  }
 ],
 "metadata": {
  "kernelspec": {
   "display_name": "Python 3",
   "language": "python",
   "name": "python3"
  },
  "language_info": {
   "codemirror_mode": {
    "name": "ipython",
    "version": 3
   },
   "file_extension": ".py",
   "mimetype": "text/x-python",
   "name": "python",
   "nbconvert_exporter": "python",
   "pygments_lexer": "ipython3",
   "version": "3.7.1"
  }
 },
 "nbformat": 4,
 "nbformat_minor": 2
}
