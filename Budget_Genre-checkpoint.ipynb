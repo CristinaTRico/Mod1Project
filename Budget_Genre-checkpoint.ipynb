{
 "cells": [
  {
   "cell_type": "code",
   "execution_count": 1,
   "metadata": {},
   "outputs": [],
   "source": [
    "import pandas as pd \n",
    "import matplotlib.pyplot as plt\n",
    "%matplotlib inline\n",
    "import seaborn as sns"
   ]
  },
  {
   "cell_type": "code",
   "execution_count": 2,
   "metadata": {},
   "outputs": [],
   "source": [
    "Budget_clean = pd.read_csv('Budget_clean.csv', index_col = [0])"
   ]
  },
  {
   "cell_type": "code",
   "execution_count": 3,
   "metadata": {},
   "outputs": [],
   "source": [
    "OpusGenre_clean = pd.read_csv('OpusGenre_clean.csv', index_col = [0])"
   ]
  },
  {
   "cell_type": "code",
   "execution_count": 4,
   "metadata": {},
   "outputs": [
    {
     "data": {
      "text/html": [
       "<div>\n",
       "<style scoped>\n",
       "    .dataframe tbody tr th:only-of-type {\n",
       "        vertical-align: middle;\n",
       "    }\n",
       "\n",
       "    .dataframe tbody tr th {\n",
       "        vertical-align: top;\n",
       "    }\n",
       "\n",
       "    .dataframe thead th {\n",
       "        text-align: right;\n",
       "    }\n",
       "</style>\n",
       "<table border=\"1\" class=\"dataframe\">\n",
       "  <thead>\n",
       "    <tr style=\"text-align: right;\">\n",
       "      <th></th>\n",
       "      <th>Release Date</th>\n",
       "      <th>Movie</th>\n",
       "      <th>Budget</th>\n",
       "      <th>Domestic Gross</th>\n",
       "      <th>Worldwide Gross</th>\n",
       "      <th>Year</th>\n",
       "      <th>Week</th>\n",
       "      <th>Dom_Profits</th>\n",
       "      <th>WW_Profits</th>\n",
       "    </tr>\n",
       "  </thead>\n",
       "  <tbody>\n",
       "    <tr>\n",
       "      <th>0</th>\n",
       "      <td>2009-12-18</td>\n",
       "      <td>Avatar</td>\n",
       "      <td>425000000</td>\n",
       "      <td>760507625</td>\n",
       "      <td>2789705275</td>\n",
       "      <td>2009</td>\n",
       "      <td>51</td>\n",
       "      <td>335507625</td>\n",
       "      <td>2364705275</td>\n",
       "    </tr>\n",
       "  </tbody>\n",
       "</table>\n",
       "</div>"
      ],
      "text/plain": [
       "  Release Date   Movie     Budget  Domestic Gross  Worldwide Gross  Year  \\\n",
       "0   2009-12-18  Avatar  425000000       760507625       2789705275  2009   \n",
       "\n",
       "   Week  Dom_Profits  WW_Profits  \n",
       "0    51    335507625  2364705275  "
      ]
     },
     "execution_count": 4,
     "metadata": {},
     "output_type": "execute_result"
    }
   ],
   "source": [
    "Budget_clean.head(1)"
   ]
  },
  {
   "cell_type": "code",
   "execution_count": 5,
   "metadata": {},
   "outputs": [
    {
     "data": {
      "text/html": [
       "<div>\n",
       "<style scoped>\n",
       "    .dataframe tbody tr th:only-of-type {\n",
       "        vertical-align: middle;\n",
       "    }\n",
       "\n",
       "    .dataframe tbody tr th {\n",
       "        vertical-align: top;\n",
       "    }\n",
       "\n",
       "    .dataframe thead th {\n",
       "        text-align: right;\n",
       "    }\n",
       "</style>\n",
       "<table border=\"1\" class=\"dataframe\">\n",
       "  <thead>\n",
       "    <tr style=\"text-align: right;\">\n",
       "      <th></th>\n",
       "      <th>movie_name</th>\n",
       "      <th>genre</th>\n",
       "    </tr>\n",
       "  </thead>\n",
       "  <tbody>\n",
       "    <tr>\n",
       "      <th>0</th>\n",
       "      <td>Madea's Family Reunion</td>\n",
       "      <td>Comedy</td>\n",
       "    </tr>\n",
       "  </tbody>\n",
       "</table>\n",
       "</div>"
      ],
      "text/plain": [
       "               movie_name   genre\n",
       "0  Madea's Family Reunion  Comedy"
      ]
     },
     "execution_count": 5,
     "metadata": {},
     "output_type": "execute_result"
    }
   ],
   "source": [
    "OpusGenre_clean.head(1)"
   ]
  },
  {
   "cell_type": "code",
   "execution_count": 6,
   "metadata": {},
   "outputs": [],
   "source": [
    "Budget_Genre = pd.merge(Budget_clean, OpusGenre_clean, left_on='Movie', right_on = 'movie_name', how='inner')"
   ]
  },
  {
   "cell_type": "code",
   "execution_count": 7,
   "metadata": {},
   "outputs": [
    {
     "data": {
      "text/plain": [
       "(1388, 11)"
      ]
     },
     "execution_count": 7,
     "metadata": {},
     "output_type": "execute_result"
    }
   ],
   "source": [
    "Budget_Genre.shape"
   ]
  },
  {
   "cell_type": "code",
   "execution_count": 8,
   "metadata": {},
   "outputs": [
    {
     "data": {
      "text/html": [
       "<div>\n",
       "<style scoped>\n",
       "    .dataframe tbody tr th:only-of-type {\n",
       "        vertical-align: middle;\n",
       "    }\n",
       "\n",
       "    .dataframe tbody tr th {\n",
       "        vertical-align: top;\n",
       "    }\n",
       "\n",
       "    .dataframe thead th {\n",
       "        text-align: right;\n",
       "    }\n",
       "</style>\n",
       "<table border=\"1\" class=\"dataframe\">\n",
       "  <thead>\n",
       "    <tr style=\"text-align: right;\">\n",
       "      <th></th>\n",
       "      <th>Release Date</th>\n",
       "      <th>Movie</th>\n",
       "      <th>Budget</th>\n",
       "      <th>Domestic Gross</th>\n",
       "      <th>Worldwide Gross</th>\n",
       "      <th>Year</th>\n",
       "      <th>Week</th>\n",
       "      <th>Dom_Profits</th>\n",
       "      <th>WW_Profits</th>\n",
       "      <th>movie_name</th>\n",
       "      <th>genre</th>\n",
       "    </tr>\n",
       "  </thead>\n",
       "  <tbody>\n",
       "    <tr>\n",
       "      <th>0</th>\n",
       "      <td>2009-12-18</td>\n",
       "      <td>Avatar</td>\n",
       "      <td>425000000</td>\n",
       "      <td>760507625</td>\n",
       "      <td>2789705275</td>\n",
       "      <td>2009</td>\n",
       "      <td>51</td>\n",
       "      <td>335507625</td>\n",
       "      <td>2364705275</td>\n",
       "      <td>Avatar</td>\n",
       "      <td>Action</td>\n",
       "    </tr>\n",
       "  </tbody>\n",
       "</table>\n",
       "</div>"
      ],
      "text/plain": [
       "  Release Date   Movie     Budget  Domestic Gross  Worldwide Gross  Year  \\\n",
       "0   2009-12-18  Avatar  425000000       760507625       2789705275  2009   \n",
       "\n",
       "   Week  Dom_Profits  WW_Profits movie_name   genre  \n",
       "0    51    335507625  2364705275     Avatar  Action  "
      ]
     },
     "execution_count": 8,
     "metadata": {},
     "output_type": "execute_result"
    }
   ],
   "source": [
    "Budget_Genre.head(1)"
   ]
  },
  {
   "cell_type": "code",
   "execution_count": 9,
   "metadata": {},
   "outputs": [],
   "source": [
    "Budget_Genre['%ROI'] = Budget_Genre['Dom_Profits'] / Budget_Genre['Budget'] "
   ]
  },
  {
   "cell_type": "code",
   "execution_count": 10,
   "metadata": {},
   "outputs": [],
   "source": [
    "Budget_Genre['KEY'] = Budget_Genre['Movie'] + ' - ' + str(Budget_Genre['Year'])"
   ]
  },
  {
   "cell_type": "code",
   "execution_count": 11,
   "metadata": {},
   "outputs": [
    {
     "data": {
      "text/plain": [
       "0    2009\n",
       "1    2011\n",
       "2    2015\n",
       "3    2018\n",
       "4    2017\n",
       "Name: Year, dtype: int64"
      ]
     },
     "execution_count": 11,
     "metadata": {},
     "output_type": "execute_result"
    }
   ],
   "source": [
    "Budget_Genre['Year'].head()"
   ]
  },
  {
   "cell_type": "code",
   "execution_count": 12,
   "metadata": {},
   "outputs": [
    {
     "data": {
      "text/plain": [
       "0                                         Avatar\n",
       "1    Pirates of the Caribbean: On Stranger Tides\n",
       "2                        Avengers: Age of Ultron\n",
       "3                         Avengers: Infinity War\n",
       "4                                 Justice League\n",
       "Name: Movie, dtype: object"
      ]
     },
     "execution_count": 12,
     "metadata": {},
     "output_type": "execute_result"
    }
   ],
   "source": [
    "Budget_Genre['Movie'].head()"
   ]
  },
  {
   "cell_type": "code",
   "execution_count": 13,
   "metadata": {},
   "outputs": [
    {
     "data": {
      "text/html": [
       "<div>\n",
       "<style scoped>\n",
       "    .dataframe tbody tr th:only-of-type {\n",
       "        vertical-align: middle;\n",
       "    }\n",
       "\n",
       "    .dataframe tbody tr th {\n",
       "        vertical-align: top;\n",
       "    }\n",
       "\n",
       "    .dataframe thead th {\n",
       "        text-align: right;\n",
       "    }\n",
       "</style>\n",
       "<table border=\"1\" class=\"dataframe\">\n",
       "  <thead>\n",
       "    <tr style=\"text-align: right;\">\n",
       "      <th></th>\n",
       "      <th>Release Date</th>\n",
       "      <th>Movie</th>\n",
       "      <th>Budget</th>\n",
       "      <th>Domestic Gross</th>\n",
       "      <th>Worldwide Gross</th>\n",
       "      <th>Year</th>\n",
       "      <th>Week</th>\n",
       "      <th>Dom_Profits</th>\n",
       "      <th>WW_Profits</th>\n",
       "      <th>movie_name</th>\n",
       "      <th>genre</th>\n",
       "      <th>%ROI</th>\n",
       "      <th>KEY</th>\n",
       "    </tr>\n",
       "  </thead>\n",
       "  <tbody>\n",
       "    <tr>\n",
       "      <th>0</th>\n",
       "      <td>2009-12-18</td>\n",
       "      <td>Avatar</td>\n",
       "      <td>425000000</td>\n",
       "      <td>760507625</td>\n",
       "      <td>2789705275</td>\n",
       "      <td>2009</td>\n",
       "      <td>51</td>\n",
       "      <td>335507625</td>\n",
       "      <td>2364705275</td>\n",
       "      <td>Avatar</td>\n",
       "      <td>Action</td>\n",
       "      <td>0.789430</td>\n",
       "      <td>Avatar - 0       2009\\n1       2011\\n2       2...</td>\n",
       "    </tr>\n",
       "    <tr>\n",
       "      <th>1</th>\n",
       "      <td>2011-05-20</td>\n",
       "      <td>Pirates of the Caribbean: On Stranger Tides</td>\n",
       "      <td>410600000</td>\n",
       "      <td>241063875</td>\n",
       "      <td>1045663875</td>\n",
       "      <td>2011</td>\n",
       "      <td>20</td>\n",
       "      <td>-169536125</td>\n",
       "      <td>635063875</td>\n",
       "      <td>Pirates of the Caribbean: On Stranger Tides</td>\n",
       "      <td>Adventure</td>\n",
       "      <td>-0.412899</td>\n",
       "      <td>Pirates of the Caribbean: On Stranger Tides - ...</td>\n",
       "    </tr>\n",
       "    <tr>\n",
       "      <th>2</th>\n",
       "      <td>2015-05-01</td>\n",
       "      <td>Avengers: Age of Ultron</td>\n",
       "      <td>330600000</td>\n",
       "      <td>459005868</td>\n",
       "      <td>1403013963</td>\n",
       "      <td>2015</td>\n",
       "      <td>18</td>\n",
       "      <td>128405868</td>\n",
       "      <td>1072413963</td>\n",
       "      <td>Avengers: Age of Ultron</td>\n",
       "      <td>Action</td>\n",
       "      <td>0.388403</td>\n",
       "      <td>Avengers: Age of Ultron - 0       2009\\n1     ...</td>\n",
       "    </tr>\n",
       "    <tr>\n",
       "      <th>3</th>\n",
       "      <td>2018-04-27</td>\n",
       "      <td>Avengers: Infinity War</td>\n",
       "      <td>300000000</td>\n",
       "      <td>678815482</td>\n",
       "      <td>2048134200</td>\n",
       "      <td>2018</td>\n",
       "      <td>17</td>\n",
       "      <td>378815482</td>\n",
       "      <td>1748134200</td>\n",
       "      <td>Avengers: Infinity War</td>\n",
       "      <td>Action</td>\n",
       "      <td>1.262718</td>\n",
       "      <td>Avengers: Infinity War - 0       2009\\n1      ...</td>\n",
       "    </tr>\n",
       "    <tr>\n",
       "      <th>4</th>\n",
       "      <td>2017-11-17</td>\n",
       "      <td>Justice League</td>\n",
       "      <td>300000000</td>\n",
       "      <td>229024295</td>\n",
       "      <td>655945209</td>\n",
       "      <td>2017</td>\n",
       "      <td>46</td>\n",
       "      <td>-70975705</td>\n",
       "      <td>355945209</td>\n",
       "      <td>Justice League</td>\n",
       "      <td>Action</td>\n",
       "      <td>-0.236586</td>\n",
       "      <td>Justice League - 0       2009\\n1       2011\\n2...</td>\n",
       "    </tr>\n",
       "  </tbody>\n",
       "</table>\n",
       "</div>"
      ],
      "text/plain": [
       "  Release Date                                        Movie     Budget  \\\n",
       "0   2009-12-18                                       Avatar  425000000   \n",
       "1   2011-05-20  Pirates of the Caribbean: On Stranger Tides  410600000   \n",
       "2   2015-05-01                      Avengers: Age of Ultron  330600000   \n",
       "3   2018-04-27                       Avengers: Infinity War  300000000   \n",
       "4   2017-11-17                               Justice League  300000000   \n",
       "\n",
       "   Domestic Gross  Worldwide Gross  Year  Week  Dom_Profits  WW_Profits  \\\n",
       "0       760507625       2789705275  2009    51    335507625  2364705275   \n",
       "1       241063875       1045663875  2011    20   -169536125   635063875   \n",
       "2       459005868       1403013963  2015    18    128405868  1072413963   \n",
       "3       678815482       2048134200  2018    17    378815482  1748134200   \n",
       "4       229024295        655945209  2017    46    -70975705   355945209   \n",
       "\n",
       "                                    movie_name      genre      %ROI  \\\n",
       "0                                       Avatar     Action  0.789430   \n",
       "1  Pirates of the Caribbean: On Stranger Tides  Adventure -0.412899   \n",
       "2                      Avengers: Age of Ultron     Action  0.388403   \n",
       "3                       Avengers: Infinity War     Action  1.262718   \n",
       "4                               Justice League     Action -0.236586   \n",
       "\n",
       "                                                 KEY  \n",
       "0  Avatar - 0       2009\\n1       2011\\n2       2...  \n",
       "1  Pirates of the Caribbean: On Stranger Tides - ...  \n",
       "2  Avengers: Age of Ultron - 0       2009\\n1     ...  \n",
       "3  Avengers: Infinity War - 0       2009\\n1      ...  \n",
       "4  Justice League - 0       2009\\n1       2011\\n2...  "
      ]
     },
     "execution_count": 13,
     "metadata": {},
     "output_type": "execute_result"
    }
   ],
   "source": [
    "Budget_Genre.head()"
   ]
  },
  {
   "cell_type": "code",
   "execution_count": 14,
   "metadata": {},
   "outputs": [],
   "source": [
    "Budget_Genre['KEY'] = Budget_Genre[\"Movie\"] +' - ' +Budget_Genre[\"Year\"].map(str)"
   ]
  },
  {
   "cell_type": "code",
   "execution_count": 15,
   "metadata": {},
   "outputs": [],
   "source": [
    "#Make a sub df of Genre and ROI\n",
    "bud_gen_only = Budget_Genre[['genre', '%ROI']]\n",
    "#Grouped by Genre and Calculated the ROI\n",
    "bud_gen_only_med = bud_gen_only.groupby('genre').median()\n",
    "#Sorted the df by Median ROIs\n",
    "bud_gen_only_med.sort_values('%ROI', inplace = True)\n",
    "#saved the sorted genres as a list to feed into plot order\n",
    "gen_by_roi = bud_gen_only_med.index.tolist()\n"
   ]
  },
  {
   "cell_type": "code",
   "execution_count": 16,
   "metadata": {},
   "outputs": [
    {
     "data": {
      "text/plain": [
       "['Documentary',\n",
       " 'Drama',\n",
       " 'Action',\n",
       " 'Thriller/Suspense',\n",
       " 'Western',\n",
       " 'Adventure',\n",
       " 'Horror',\n",
       " 'Black Comedy',\n",
       " 'Romantic Comedy',\n",
       " 'Comedy',\n",
       " 'Musical']"
      ]
     },
     "execution_count": 16,
     "metadata": {},
     "output_type": "execute_result"
    }
   ],
   "source": [
    "gen_by_roi"
   ]
  },
  {
   "cell_type": "code",
   "execution_count": 17,
   "metadata": {},
   "outputs": [],
   "source": [
    "gen_by_roi.reverse()"
   ]
  },
  {
   "cell_type": "code",
   "execution_count": 38,
   "metadata": {},
   "outputs": [
    {
     "data": {
      "image/png": "[encoded data removed]",
      "text/plain": [
       "<Figure size 1440x864 with 1 Axes>"
      ]
     },
     "metadata": {
      "needs_background": "light"
     },
     "output_type": "display_data"
    }
   ],
   "source": [
    "#plot %ROI by weeks sorted by median values\n",
    "# fig= plt.figure(figsize=(25,10))\n",
    "# bplot = sns.boxplot(y='%ROI', x='genre', `\n",
    "#                  data=Budget_Genre, \n",
    "#                  width=0.5,\n",
    "#                  palette=\"Paired\", order = gen_by_roi )\n",
    "# plt.grid()\n",
    "# plt.title(\"Percentage ROI by Genre\" );\n",
    "\n",
    "median_vals = Budget_Genre.groupby('genre')['%ROI'].median()\n",
    "norm = plt.Normalize(median_vals.min(), median_vals.max())\n",
    "median_vals = median_vals.tolist()\n",
    "colors = plt.cm.RdYlBu_r(norm(median_vals))\n",
    "\n",
    "plt.figure(figsize=(20,12))\n",
    "plt.rcParams[\"axes.labelsize\"] = 18\n",
    "plt.ylim(-1.25, 7)\n",
    "plt.grid(b=True, which='major', axis='both')\n",
    "ax = sns.boxplot(x=\"genre\", y=\"%ROI\", data=Budget_Genre, palette=\"Greens_r\", showfliers=True, order = gen_by_roi).set(xlabel='Genre', ylabel='Percent Return on Invenstment')\n",
    "plt.axhline(y=0, color = \"black\", label = \"Break Even\", lw = 2.5)\n",
    "plt.figtext(.5,.9,'Percentage Return on Investment from 2006 - 2018 by Genre', fontsize=25, ha='center')\n",
    "plt.savefig('ROI_by_Genre.jpg')\n",
    "plt.show()"
   ]
  },
  {
   "cell_type": "code",
   "execution_count": 19,
   "metadata": {},
   "outputs": [
    {
     "data": {
      "text/plain": [
       "<Figure size 432x288 with 0 Axes>"
      ]
     },
     "metadata": {},
     "output_type": "display_data"
    }
   ],
   "source": [
    "plt.savefig('ROI_by_Genre.png')"
   ]
  },
  {
   "cell_type": "code",
   "execution_count": 20,
   "metadata": {},
   "outputs": [
    {
     "ename": "NameError",
     "evalue": "name 'gen_by_roi_1' is not defined",
     "output_type": "error",
     "traceback": [
      "\u001b[0;31m---------------------------------------------------------------------------\u001b[0m",
      "\u001b[0;31mNameError\u001b[0m                                 Traceback (most recent call last)",
      "\u001b[0;32m<ipython-input-20-3a47874383a2>\u001b[0m in \u001b[0;36m<module>\u001b[0;34m\u001b[0m\n\u001b[1;32m      8\u001b[0m \u001b[0mplt\u001b[0m\u001b[0;34m.\u001b[0m\u001b[0mylim\u001b[0m\u001b[0;34m(\u001b[0m\u001b[0;34m-\u001b[0m\u001b[0;36m1.25\u001b[0m\u001b[0;34m,\u001b[0m \u001b[0;36m3.5\u001b[0m\u001b[0;34m)\u001b[0m\u001b[0;34m\u001b[0m\u001b[0;34m\u001b[0m\u001b[0m\n\u001b[1;32m      9\u001b[0m \u001b[0mplt\u001b[0m\u001b[0;34m.\u001b[0m\u001b[0mgrid\u001b[0m\u001b[0;34m(\u001b[0m\u001b[0mb\u001b[0m\u001b[0;34m=\u001b[0m\u001b[0;32mTrue\u001b[0m\u001b[0;34m,\u001b[0m \u001b[0mwhich\u001b[0m\u001b[0;34m=\u001b[0m\u001b[0;34m'major'\u001b[0m\u001b[0;34m,\u001b[0m \u001b[0maxis\u001b[0m\u001b[0;34m=\u001b[0m\u001b[0;34m'both'\u001b[0m\u001b[0;34m)\u001b[0m\u001b[0;34m\u001b[0m\u001b[0;34m\u001b[0m\u001b[0m\n\u001b[0;32m---> 10\u001b[0;31m \u001b[0max\u001b[0m \u001b[0;34m=\u001b[0m \u001b[0msns\u001b[0m\u001b[0;34m.\u001b[0m\u001b[0mboxplot\u001b[0m\u001b[0;34m(\u001b[0m\u001b[0mx\u001b[0m\u001b[0;34m=\u001b[0m\u001b[0;34m\"genre\"\u001b[0m\u001b[0;34m,\u001b[0m \u001b[0my\u001b[0m\u001b[0;34m=\u001b[0m\u001b[0;34m\"%ROI\"\u001b[0m\u001b[0;34m,\u001b[0m \u001b[0mdata\u001b[0m\u001b[0;34m=\u001b[0m\u001b[0mBudget_Genre\u001b[0m\u001b[0;34m,\u001b[0m \u001b[0mpalette\u001b[0m\u001b[0;34m=\u001b[0m\u001b[0mcolors\u001b[0m\u001b[0;34m,\u001b[0m \u001b[0mshowfliers\u001b[0m\u001b[0;34m=\u001b[0m\u001b[0;32mTrue\u001b[0m\u001b[0;34m,\u001b[0m \u001b[0morder\u001b[0m \u001b[0;34m=\u001b[0m \u001b[0mgen_by_roi_1\u001b[0m\u001b[0;34m)\u001b[0m\u001b[0;34m.\u001b[0m\u001b[0mset\u001b[0m\u001b[0;34m(\u001b[0m\u001b[0mxlabel\u001b[0m\u001b[0;34m=\u001b[0m\u001b[0;34m'Genre'\u001b[0m\u001b[0;34m,\u001b[0m \u001b[0mylabel\u001b[0m\u001b[0;34m=\u001b[0m\u001b[0;34m'Percent Return on Invenstment'\u001b[0m\u001b[0;34m)\u001b[0m\u001b[0;34m\u001b[0m\u001b[0;34m\u001b[0m\u001b[0m\n\u001b[0m\u001b[1;32m     11\u001b[0m \u001b[0mplt\u001b[0m\u001b[0;34m.\u001b[0m\u001b[0maxhline\u001b[0m\u001b[0;34m(\u001b[0m\u001b[0my\u001b[0m\u001b[0;34m=\u001b[0m\u001b[0;36m0\u001b[0m\u001b[0;34m,\u001b[0m \u001b[0mcolor\u001b[0m \u001b[0;34m=\u001b[0m \u001b[0;34m\"black\"\u001b[0m\u001b[0;34m,\u001b[0m \u001b[0mlabel\u001b[0m \u001b[0;34m=\u001b[0m \u001b[0;34m\"Break Even\"\u001b[0m\u001b[0;34m,\u001b[0m \u001b[0mlw\u001b[0m \u001b[0;34m=\u001b[0m \u001b[0;36m2.5\u001b[0m\u001b[0;34m)\u001b[0m\u001b[0;34m\u001b[0m\u001b[0;34m\u001b[0m\u001b[0m\n\u001b[1;32m     12\u001b[0m \u001b[0mplt\u001b[0m\u001b[0;34m.\u001b[0m\u001b[0mfigtext\u001b[0m\u001b[0;34m(\u001b[0m\u001b[0;36m.5\u001b[0m\u001b[0;34m,\u001b[0m\u001b[0;36m.9\u001b[0m\u001b[0;34m,\u001b[0m\u001b[0;34m'Percentage Return on Investment from 2006 - 2018 by Genre'\u001b[0m\u001b[0;34m,\u001b[0m \u001b[0mfontsize\u001b[0m\u001b[0;34m=\u001b[0m\u001b[0;36m25\u001b[0m\u001b[0;34m,\u001b[0m \u001b[0mha\u001b[0m\u001b[0;34m=\u001b[0m\u001b[0;34m'center'\u001b[0m\u001b[0;34m)\u001b[0m\u001b[0;34m\u001b[0m\u001b[0;34m\u001b[0m\u001b[0m\n",
      "\u001b[0;31mNameError\u001b[0m: name 'gen_by_roi_1' is not defined"
     ]
    },
    {
     "data": {
      "image/png": "[encoded data removed]",
      "text/plain": [
       "<Figure size 1440x864 with 1 Axes>"
      ]
     },
     "metadata": {
      "needs_background": "light"
     },
     "output_type": "display_data"
    }
   ],
   "source": [
    "median_vals = Budget_Genre.groupby('genre')['%ROI'].median()\n",
    "norm = plt.Normalize(median_vals.min(), median_vals.max())\n",
    "median_vals = median_vals.tolist()\n",
    "colors = plt.cm.RdYlBu_r(norm(median_vals))\n",
    "\n",
    "plt.figure(figsize=(20,12))\n",
    "plt.rcParams[\"axes.labelsize\"] = 18\n",
    "plt.ylim(-1.25, 3.5)\n",
    "plt.grid(b=True, which='major', axis='both')\n",
    "ax = sns.boxplot(x=\"genre\", y=\"%ROI\", data=Budget_Genre, palette=colors, showfliers=True, order = gen_by_roi_1).set(xlabel='Genre', ylabel='Percent Return on Invenstment')\n",
    "plt.axhline(y=0, color = \"black\", label = \"Break Even\", lw = 2.5)\n",
    "plt.figtext(.5,.9,'Percentage Return on Investment from 2006 - 2018 by Genre', fontsize=25, ha='center')\n",
    "plt.show()"
   ]
  },
  {
   "cell_type": "code",
   "execution_count": null,
   "metadata": {},
   "outputs": [],
   "source": [
    "Budget_Genre['genre'].value_counts()"
   ]
  },
  {
   "cell_type": "code",
   "execution_count": null,
   "metadata": {},
   "outputs": [],
   "source": [
    "Budget_Genre['Budget'].hist(by=Budget_Genre['genre'], figsize = (20,12));"
   ]
  },
  {
   "cell_type": "code",
   "execution_count": 21,
   "metadata": {},
   "outputs": [
    {
     "data": {
      "image/png": "[encoded data removed]",
      "text/plain": [
       "<Figure size 1440x864 with 12 Axes>"
      ]
     },
     "metadata": {
      "needs_background": "light"
     },
     "output_type": "display_data"
    }
   ],
   "source": [
    "Budget_Genre['%ROI'].hist(by=Budget_Genre['genre'], figsize = (20,12));"
   ]
  },
  {
   "cell_type": "code",
   "execution_count": 22,
   "metadata": {},
   "outputs": [
    {
     "ename": "SyntaxError",
     "evalue": "invalid syntax (<ipython-input-22-fe9dcd8082f4>, line 2)",
     "output_type": "error",
     "traceback": [
      "\u001b[0;36m  File \u001b[0;32m\"<ipython-input-22-fe9dcd8082f4>\"\u001b[0;36m, line \u001b[0;32m2\u001b[0m\n\u001b[0;31m    plt.hist(, bins=20)\u001b[0m\n\u001b[0m             ^\u001b[0m\n\u001b[0;31mSyntaxError\u001b[0m\u001b[0;31m:\u001b[0m invalid syntax\n"
     ]
    }
   ],
   "source": [
    "x = np.random.random_integers(1, 100, 5)\n",
    "plt.hist(, bins=20)\n",
    "plt.ylabel('No of times')\n",
    "plt.show()"
   ]
  },
  {
   "cell_type": "code",
   "execution_count": 39,
   "metadata": {},
   "outputs": [],
   "source": [
    "Comedies = Budget_Genre[Budget_Genre.genre.isin(['Comedy','Romantic Comedy', 'Black Comedy'])]"
   ]
  },
  {
   "cell_type": "code",
   "execution_count": 40,
   "metadata": {},
   "outputs": [
    {
     "data": {
      "image/png": "[encoded data removed]",
      "text/plain": [
       "<Figure size 432x288 with 1 Axes>"
      ]
     },
     "metadata": {
      "needs_background": "light"
     },
     "output_type": "display_data"
    }
   ],
   "source": [
    "\n",
    "plt.hist(Comedies['Budget'], bins=20)\n",
    "plt.ylabel('Number of Comedies')\n",
    "plt.xlabel('Production Budget in $')\n",
    "plt.show()"
   ]
  },
  {
   "cell_type": "code",
   "execution_count": 41,
   "metadata": {},
   "outputs": [
    {
     "data": {
      "image/png": "[encoded data removed]",
      "text/plain": [
       "<Figure size 432x288 with 1 Axes>"
      ]
     },
     "metadata": {
      "needs_background": "light"
     },
     "output_type": "display_data"
    }
   ],
   "source": [
    "plt.hist(Comedies['Budget'], bins=40)\n",
    "plt.ylabel('Number of Comedies')\n",
    "plt.xlabel('Production Budget in $')\n",
    "plt.axvline(Comedies['Budget'].median(), color = \"red\", label = 'Median Budget')\n",
    "plt.title('Comedy Production Budgets 2006 - 2018')\n",
    "plt.show()"
   ]
  },
  {
   "cell_type": "code",
   "execution_count": 42,
   "metadata": {},
   "outputs": [
    {
     "name": "stderr",
     "output_type": "stream",
     "text": [
      "/anaconda3/lib/python3.7/site-packages/scipy/stats/stats.py:1713: FutureWarning: Using a non-tuple sequence for multidimensional indexing is deprecated; use `arr[tuple(seq)]` instead of `arr[seq]`. In the future this will be interpreted as an array index, `arr[np.array(seq)]`, which will result either in an error or a different result.\n",
      "  return np.add.reduce(sorted[indexer] * weights, axis=axis) / sumval\n"
     ]
    },
    {
     "data": {
      "text/plain": [
       "<matplotlib.legend.Legend at 0x1a16286a90>"
      ]
     },
     "execution_count": 42,
     "metadata": {},
     "output_type": "execute_result"
    },
    {
     "data": {
      "image/png": "[encoded data removed]",
      "text/plain": [
       "<Figure size 432x288 with 1 Axes>"
      ]
     },
     "metadata": {
      "needs_background": "light"
     },
     "output_type": "display_data"
    }
   ],
   "source": [
    "sns.distplot(Comedies['Budget'], kde=False, rug=True)\n",
    "plt.axvline(Comedies['Domestic Gross'].median(), color = \"Green\", label = \"Domestic Gross Median\");\n",
    "plt.axvline(Comedies['Budget'].median(), color = \"red\", label = \"Production Budget Median\");\n",
    "plt.legend()\n"
   ]
  },
  {
   "cell_type": "code",
   "execution_count": 43,
   "metadata": {},
   "outputs": [
    {
     "data": {
      "text/plain": [
       "23299543.16494625"
      ]
     },
     "execution_count": 43,
     "metadata": {},
     "output_type": "execute_result"
    }
   ],
   "source": [
    "Comedies['Budget'].std()"
   ]
  },
  {
   "cell_type": "code",
   "execution_count": 44,
   "metadata": {},
   "outputs": [
    {
     "data": {
      "text/plain": [
       "35000000.0"
      ]
     },
     "execution_count": 44,
     "metadata": {},
     "output_type": "execute_result"
    }
   ],
   "source": [
    "Comedies['Budget'].median()"
   ]
  },
  {
   "cell_type": "code",
   "execution_count": 45,
   "metadata": {},
   "outputs": [
    {
     "data": {
      "image/png": "[encoded data removed]",
      "text/plain": [
       "<Figure size 432x288 with 1 Axes>"
      ]
     },
     "metadata": {
      "needs_background": "light"
     },
     "output_type": "display_data"
    }
   ],
   "source": [
    "sns.distplot(Comedies['Domestic Gross'], kde=False, rug=True)\n",
    "plt.axvline(Comedies['Domestic Gross'].median(), color = \"Green\");\n",
    "plt.axvline(Comedies['Budget'].median(), color = \"red\");"
   ]
  },
  {
   "cell_type": "code",
   "execution_count": 46,
   "metadata": {},
   "outputs": [
    {
     "data": {
      "text/plain": [
       "<matplotlib.axes._subplots.AxesSubplot at 0x1a1641f6d8>"
      ]
     },
     "execution_count": 46,
     "metadata": {},
     "output_type": "execute_result"
    },
    {
     "data": {
      "image/png": "[encoded data removed]",
      "text/plain": [
       "<Figure size 432x288 with 1 Axes>"
      ]
     },
     "metadata": {
      "needs_background": "light"
     },
     "output_type": "display_data"
    }
   ],
   "source": [
    "sns.distplot(Comedies['%ROI'], kde=False, rug=True)"
   ]
  },
  {
   "cell_type": "code",
   "execution_count": 47,
   "metadata": {},
   "outputs": [
    {
     "data": {
      "text/plain": [
       "(20, 13)"
      ]
     },
     "execution_count": 47,
     "metadata": {},
     "output_type": "execute_result"
    }
   ],
   "source": [
    "Comedies[Comedies.Budget == 35000000].shape"
   ]
  },
  {
   "cell_type": "code",
   "execution_count": 48,
   "metadata": {},
   "outputs": [],
   "source": [
    "def BOA_med(amount):\n",
    "    if amount < 35000000:\n",
    "        return 'Below Median'\n",
    "    elif amount == 35000000:\n",
    "        return 'Median: $35,000,000'\n",
    "    elif amount > 35000000:\n",
    "        return 'Above Median'"
   ]
  },
  {
   "cell_type": "code",
   "execution_count": null,
   "metadata": {},
   "outputs": [],
   "source": []
  },
  {
   "cell_type": "code",
   "execution_count": 49,
   "metadata": {},
   "outputs": [
    {
     "name": "stderr",
     "output_type": "stream",
     "text": [
      "/anaconda3/lib/python3.7/site-packages/ipykernel_launcher.py:1: SettingWithCopyWarning: \n",
      "A value is trying to be set on a copy of a slice from a DataFrame.\n",
      "Try using .loc[row_indexer,col_indexer] = value instead\n",
      "\n",
      "See the caveats in the documentation: http://pandas.pydata.org/pandas-docs/stable/indexing.html#indexing-view-versus-copy\n",
      "  \"\"\"Entry point for launching an IPython kernel.\n"
     ]
    }
   ],
   "source": [
    "Comedies['Median'] = Comedies['Budget'].apply(lambda x: BOA_med(x))"
   ]
  },
  {
   "cell_type": "code",
   "execution_count": 50,
   "metadata": {},
   "outputs": [],
   "source": [
    "# Comedies"
   ]
  },
  {
   "cell_type": "code",
   "execution_count": 51,
   "metadata": {},
   "outputs": [
    {
     "name": "stderr",
     "output_type": "stream",
     "text": [
      "/anaconda3/lib/python3.7/site-packages/ipykernel_launcher.py:1: SettingWithCopyWarning: \n",
      "A value is trying to be set on a copy of a slice from a DataFrame\n",
      "\n",
      "See the caveats in the documentation: http://pandas.pydata.org/pandas-docs/stable/indexing.html#indexing-view-versus-copy\n",
      "  \"\"\"Entry point for launching an IPython kernel.\n"
     ]
    }
   ],
   "source": [
    "Comedies.dropna(inplace = True)"
   ]
  },
  {
   "cell_type": "code",
   "execution_count": 55,
   "metadata": {},
   "outputs": [],
   "source": [
    "outcomes = ['Below Median',\n",
    "            'Median: $35,000,000',\n",
    "            'Above Median']"
   ]
  },
  {
   "cell_type": "code",
   "execution_count": 58,
   "metadata": {},
   "outputs": [
    {
     "data": {
      "image/png": "[encoded data removed]",
      "text/plain": [
       "<Figure size 864x720 with 1 Axes>"
      ]
     },
     "metadata": {
      "needs_background": "light"
     },
     "output_type": "display_data"
    }
   ],
   "source": [
    "fig= plt.figure(figsize=(12,10))\n",
    "my_pal = {outcomes[0]: \"green\",\n",
    "         outcomes[1]: \"darkgreen\",\n",
    "         outcomes[2]: \"lightgreen\"}\n",
    "bplot = sns.boxplot(y='%ROI', x='Median', \n",
    "                 data=Comedies, \n",
    "                 width=0.5,\n",
    "                 palette = my_pal, \n",
    "                 order = ['Below Median', 'Median: $35,000,000', 'Above Median']).set(xlabel = \" \")\n",
    "# sns.set(font_scale = 1)\n",
    "sns.set_context(\"paper\", rc={'xtick.labelsize': 18.0})\n",
    "plt.ylim(-1.1, 7)\n",
    "plt.rcParams[\"axes.labelsize\"] = 18\n",
    "plt.figtext(.5,.9,'Percentage Return on Investment by Budget', fontsize=25, ha='center')\n",
    "plt.grid(b=True, which='major', axis='both')\n",
    "\n",
    "plt.axhline(y=0, color = \"red\", label = \"\")\n",
    "plt.savefig('ROI_by_Compared_Med.jpeg');\n",
    "\n"
   ]
  },
  {
   "cell_type": "code",
   "execution_count": 33,
   "metadata": {},
   "outputs": [
    {
     "data": {
      "text/plain": [
       "<Figure size 432x288 with 0 Axes>"
      ]
     },
     "metadata": {},
     "output_type": "display_data"
    }
   ],
   "source": [
    "plt.savefig('ROI_by_Compared_Med.jpeg')"
   ]
  },
  {
   "cell_type": "code",
   "execution_count": 34,
   "metadata": {},
   "outputs": [
    {
     "ename": "NameError",
     "evalue": "name 'Comedies' is not defined",
     "output_type": "error",
     "traceback": [
      "\u001b[0;31m---------------------------------------------------------------------------\u001b[0m",
      "\u001b[0;31mNameError\u001b[0m                                 Traceback (most recent call last)",
      "\u001b[0;32m<ipython-input-34-65d6426e9a99>\u001b[0m in \u001b[0;36m<module>\u001b[0;34m\u001b[0m\n\u001b[0;32m----> 1\u001b[0;31m \u001b[0mComedies\u001b[0m\u001b[0;34m[\u001b[0m\u001b[0;34m(\u001b[0m\u001b[0mComedies\u001b[0m\u001b[0;34m[\u001b[0m\u001b[0;34m'Median'\u001b[0m\u001b[0;34m]\u001b[0m\u001b[0;34m==\u001b[0m\u001b[0;34m'Above Median'\u001b[0m\u001b[0;34m)\u001b[0m \u001b[0;34m&\u001b[0m \u001b[0;34m(\u001b[0m\u001b[0mComedies\u001b[0m\u001b[0;34m[\u001b[0m\u001b[0;34m'%ROI'\u001b[0m\u001b[0;34m]\u001b[0m \u001b[0;34m>\u001b[0m \u001b[0;36m0\u001b[0m\u001b[0;34m)\u001b[0m\u001b[0;34m]\u001b[0m\u001b[0;34m.\u001b[0m\u001b[0mhead\u001b[0m\u001b[0;34m(\u001b[0m\u001b[0;36m1\u001b[0m\u001b[0;34m)\u001b[0m\u001b[0;34m\u001b[0m\u001b[0;34m\u001b[0m\u001b[0m\n\u001b[0m",
      "\u001b[0;31mNameError\u001b[0m: name 'Comedies' is not defined"
     ]
    }
   ],
   "source": [
    "Comedies[(Comedies['Median']=='Above Median') & (Comedies['%ROI'] > 0)].head(1)"
   ]
  },
  {
   "cell_type": "code",
   "execution_count": 35,
   "metadata": {},
   "outputs": [
    {
     "ename": "NameError",
     "evalue": "name 'Comedies' is not defined",
     "output_type": "error",
     "traceback": [
      "\u001b[0;31m---------------------------------------------------------------------------\u001b[0m",
      "\u001b[0;31mNameError\u001b[0m                                 Traceback (most recent call last)",
      "\u001b[0;32m<ipython-input-35-6f8a194f8a7e>\u001b[0m in \u001b[0;36m<module>\u001b[0;34m\u001b[0m\n\u001b[0;32m----> 1\u001b[0;31m \u001b[0mComedies\u001b[0m\u001b[0;34m[\u001b[0m\u001b[0;34m(\u001b[0m\u001b[0mComedies\u001b[0m\u001b[0;34m[\u001b[0m\u001b[0;34m'Median'\u001b[0m\u001b[0;34m]\u001b[0m\u001b[0;34m==\u001b[0m\u001b[0;34m'Above Median'\u001b[0m\u001b[0;34m)\u001b[0m \u001b[0;34m]\u001b[0m\u001b[0;34m.\u001b[0m\u001b[0mhead\u001b[0m\u001b[0;34m(\u001b[0m\u001b[0;36m1\u001b[0m\u001b[0;34m)\u001b[0m\u001b[0;34m\u001b[0m\u001b[0;34m\u001b[0m\u001b[0m\n\u001b[0m",
      "\u001b[0;31mNameError\u001b[0m: name 'Comedies' is not defined"
     ]
    }
   ],
   "source": [
    "Comedies[(Comedies['Median']=='Above Median') ].head(1)"
   ]
  },
  {
   "cell_type": "code",
   "execution_count": 36,
   "metadata": {},
   "outputs": [
    {
     "ename": "NameError",
     "evalue": "name 'Comedies' is not defined",
     "output_type": "error",
     "traceback": [
      "\u001b[0;31m---------------------------------------------------------------------------\u001b[0m",
      "\u001b[0;31mNameError\u001b[0m                                 Traceback (most recent call last)",
      "\u001b[0;32m<ipython-input-36-5214be8ce1e5>\u001b[0m in \u001b[0;36m<module>\u001b[0;34m\u001b[0m\n\u001b[0;32m----> 1\u001b[0;31m \u001b[0mComedies\u001b[0m\u001b[0;34m[\u001b[0m\u001b[0;34m(\u001b[0m\u001b[0mComedies\u001b[0m\u001b[0;34m[\u001b[0m\u001b[0;34m'Median'\u001b[0m\u001b[0;34m]\u001b[0m\u001b[0;34m==\u001b[0m\u001b[0;34m'Below Median'\u001b[0m\u001b[0;34m)\u001b[0m\u001b[0;34m]\u001b[0m\u001b[0;34m.\u001b[0m\u001b[0mshape\u001b[0m\u001b[0;34m\u001b[0m\u001b[0;34m\u001b[0m\u001b[0m\n\u001b[0m",
      "\u001b[0;31mNameError\u001b[0m: name 'Comedies' is not defined"
     ]
    }
   ],
   "source": [
    "Comedies[(Comedies['Median']=='Below Median')].shape"
   ]
  },
  {
   "cell_type": "code",
   "execution_count": 37,
   "metadata": {},
   "outputs": [
    {
     "ename": "NameError",
     "evalue": "name 'Comedies' is not defined",
     "output_type": "error",
     "traceback": [
      "\u001b[0;31m---------------------------------------------------------------------------\u001b[0m",
      "\u001b[0;31mNameError\u001b[0m                                 Traceback (most recent call last)",
      "\u001b[0;32m<ipython-input-37-950e10836e50>\u001b[0m in \u001b[0;36m<module>\u001b[0;34m\u001b[0m\n\u001b[0;32m----> 1\u001b[0;31m \u001b[0mComedies\u001b[0m\u001b[0;34m[\u001b[0m\u001b[0;34m'Week'\u001b[0m\u001b[0;34m]\u001b[0m\u001b[0;34m.\u001b[0m\u001b[0mhist\u001b[0m\u001b[0;34m(\u001b[0m\u001b[0mbins\u001b[0m \u001b[0;34m=\u001b[0m \u001b[0;36m20\u001b[0m\u001b[0;34m)\u001b[0m\u001b[0;34m\u001b[0m\u001b[0;34m\u001b[0m\u001b[0m\n\u001b[0m",
      "\u001b[0;31mNameError\u001b[0m: name 'Comedies' is not defined"
     ]
    }
   ],
   "source": [
    "Comedies['Week'].hist(bins = 20)"
   ]
  },
  {
   "cell_type": "code",
   "execution_count": null,
   "metadata": {},
   "outputs": [],
   "source": [
    "Budget_Genre.to_csv('Budget_Genre.csv')"
   ]
  },
  {
   "cell_type": "code",
   "execution_count": null,
   "metadata": {},
   "outputs": [],
   "source": [
    "# import numpy as np\n",
    "# import matplotlib.pyplot as plt\n",
    "\n",
    "\n",
    "# # Have colormaps separated into categories:\n",
    "# # http://matplotlib.org/examples/color/colormaps_reference.html\n",
    "# cmaps = [('Perceptually Uniform Sequential', [\n",
    "#             'viridis', 'plasma', 'inferno', 'magma']),\n",
    "#          ('Sequential', [\n",
    "#             'Greys', 'Purples', 'Blues', 'Greens', 'Oranges', 'Reds',\n",
    "#             'YlOrBr', 'YlOrRd', 'OrRd', 'PuRd', 'RdPu', 'BuPu',\n",
    "#             'GnBu', 'PuBu', 'YlGnBu', 'PuBuGn', 'BuGn', 'YlGn']),\n",
    "#          ('Sequential (2)', [\n",
    "#             'binary', 'gist_yarg', 'gist_gray', 'gray', 'bone', 'pink',\n",
    "#             'spring', 'summer', 'autumn', 'winter', 'cool', 'Wistia',\n",
    "#             'hot', 'afmhot', 'gist_heat', 'copper']),\n",
    "#          ('Diverging', [\n",
    "#             'PiYG', 'PRGn', 'BrBG', 'PuOr', 'RdGy', 'RdBu',\n",
    "#             'RdYlBu', 'RdYlGn', 'Spectral', 'coolwarm', 'bwr', 'seismic']),\n",
    "#          ('Qualitative', [\n",
    "#             'Pastel1', 'Pastel2', 'Paired', 'Accent',\n",
    "#             'Dark2', 'Set1', 'Set2', 'Set3',\n",
    "#             'tab10', 'tab20', 'tab20b', 'tab20c']),\n",
    "#          ('Miscellaneous', [\n",
    "#             'flag', 'prism', 'ocean', 'gist_earth', 'terrain', 'gist_stern',\n",
    "#             'gnuplot', 'gnuplot2', 'CMRmap', 'cubehelix', 'brg', 'hsv',\n",
    "#             'gist_rainbow', 'rainbow', 'jet', 'nipy_spectral', 'gist_ncar'])]\n",
    "\n",
    "\n",
    "# nrows = max(len(cmap_list) for cmap_category, cmap_list in cmaps)\n",
    "# gradient = np.linspace(0, 1, 256)\n",
    "# gradient = np.vstack((gradient, gradient))\n",
    "\n",
    "\n",
    "# def plot_color_gradients(cmap_category, cmap_list, nrows):\n",
    "#     fig, axes = plt.subplots(nrows=nrows)\n",
    "#     fig.subplots_adjust(top=0.95, bottom=0.01, left=0.2, right=0.99)\n",
    "#     axes[0].set_title(cmap_category + ' colormaps', fontsize=14)\n",
    "\n",
    "#     for ax, name in zip(axes, cmap_list):\n",
    "#         ax.imshow(gradient, aspect='auto', cmap=plt.get_cmap(name))\n",
    "#         pos = list(ax.get_position().bounds)\n",
    "#         x_text = pos[0] - 0.01\n",
    "#         y_text = pos[1] + pos[3]/2.\n",
    "#         fig.text(x_text, y_text, name, va='center', ha='right', fontsize=10)\n",
    "\n",
    "#     # Turn off *all* ticks & spines, not just the ones with colormaps.\n",
    "#     for ax in axes:\n",
    "#         ax.set_axis_off()\n",
    "\n",
    "\n",
    "# for cmap_category, cmap_list in cmaps:\n",
    "#     plot_color_gradients(cmap_category, cmap_list, nrows)\n",
    "\n",
    "# plt.show()"
   ]
  },
  {
   "cell_type": "code",
   "execution_count": null,
   "metadata": {},
   "outputs": [],
   "source": []
  }
 ],
 "metadata": {
  "kernelspec": {
   "display_name": "Python 3",
   "language": "python",
   "name": "python3"
  },
  "language_info": {
   "codemirror_mode": {
    "name": "ipython",
    "version": 3
   },
   "file_extension": ".py",
   "mimetype": "text/x-python",
   "name": "python",
   "nbconvert_exporter": "python",
   "pygments_lexer": "ipython3",
   "version": "3.7.1"
  }
 },
 "nbformat": 4,
 "nbformat_minor": 2
}
