{
 "cells": [
  {
   "cell_type": "markdown",
   "metadata": {},
   "source": [
    "# Title"
   ]
  },
  {
   "cell_type": "markdown",
   "metadata": {},
   "source": [
    "### Data Sources"
   ]
  },
  {
   "cell_type": "markdown",
   "metadata": {},
   "source": [
    "##### Financial Data\n",
    "\n",
    "Our finacial data was scraped from [The Numbers: Where Data and the Movie Business Meet.](https://www.the-numbers.com/movie/budgets/all)The Numbers provided us with 2700 movies paired with the following data:\n",
    "* Release Date\n",
    "* Production Budget \n",
    "* Domestic Gross\n",
    "* Worldwide Gross\n"
   ]
  },
  {
   "cell_type": "markdown",
   "metadata": {},
   "source": [
    "##### Genre Data\n",
    "Opus data provided us with a data set for free witht he exception that it is used for educational purposes only. There were 1936 data points provided form which we primarily used the genre information."
   ]
  },
  {
   "cell_type": "markdown",
   "metadata": {},
   "source": [
    "##### Run Times, Cast, and Directors"
   ]
  },
  {
   "cell_type": "markdown",
   "metadata": {},
   "source": [
    "### Data Analysis"
   ]
  },
  {
   "cell_type": "markdown",
   "metadata": {},
   "source": [
    "##### Release Dates\n",
    "\n",
    "Before we could analyze release dates to and narrow down an accetpable release window we needed to calculate and add a compareable metric to our data. Th metric we chose to use in our comparisons is the Percentage Return on Investment(ROI%) calculated as:\n",
    "<center>$\\frac{Domestic Gross - Production Budget}{Production Budget}$</center>\n",
    "We chose to use only Domestic Gross in out calcuation rather than Worldwide Gross due tot he fact that we did not have Budget information pertaining to marketing or promotion of overseas releases.\n",
    "\n",
    "Using our release date date from The Numbers we were able to map which week each movie was released. To view the distribution of of ROI% over the weeks of the year we analyzed the plot below.\n",
    "\n",
    "![](ROI_by_Week.jpg)\n",
    "\n",
    "Here you see weeks with a higher percentage of data below the break even line will be a gradient of blue, where as weeks with a higher percentage of data above the break even line will be a gradient of red. \n"
   ]
  },
  {
   "cell_type": "markdown",
   "metadata": {},
   "source": [
    "##### Genre\n",
    "\n",
    "In order to compare our financials by genre we first joined two of our Budget dataframe and our Genre dataframe. In doing do we were left with 1388 data point to analyze for the genre portion of the analysis. As with the release date, ROI% was used to compare performace across movie genre as well. The following plot shoes the distribution of performance for each genre in our dataset. The plot is ordered from greated median ROI% to lowest median ROI%. ALthough it can be seen that musicals as a genre is leading the pack there are only 20 musicals in this set of 1388 movies and may not be the best representation of the market. "
   ]
  },
  {
   "cell_type": "markdown",
   "metadata": {},
   "source": [
    "##### Budget"
   ]
  },
  {
   "cell_type": "markdown",
   "metadata": {},
   "source": [
    "##### Runtime"
   ]
  },
  {
   "cell_type": "markdown",
   "metadata": {},
   "source": [
    "##### Cast and Director"
   ]
  },
  {
   "cell_type": "markdown",
   "metadata": {},
   "source": [
    "### Final Recommendation"
   ]
  }
 ],
 "metadata": {
  "kernelspec": {
   "display_name": "Python 3",
   "language": "python",
   "name": "python3"
  },
  "language_info": {
   "codemirror_mode": {
    "name": "ipython",
    "version": 3
   },
   "file_extension": ".py",
   "mimetype": "text/x-python",
   "name": "python",
   "nbconvert_exporter": "python",
   "pygments_lexer": "ipython3",
   "version": "3.7.1"
  }
 },
 "nbformat": 4,
 "nbformat_minor": 2
}
