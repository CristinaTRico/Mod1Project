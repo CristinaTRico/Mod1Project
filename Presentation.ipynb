{
 "cells": [
  {
   "cell_type": "markdown",
   "metadata": {},
   "source": [
    "# Microsoft Studios: Data-driven recommendations for a profitable initial release"
   ]
  },
  {
   "cell_type": "markdown",
   "metadata": {},
   "source": [
    "## Data Sources"
   ]
  },
  {
   "cell_type": "markdown",
   "metadata": {},
   "source": [
    "### Financial Data\n",
    "\n",
    "Our financial data was scraped from [The-Numbers: Where Data and the Movie Business Meet.](https://www.the-numbers.com/movie/budgets/all)  The-Numbers.com provided us with 2,700 films paired with the following data:\n",
    "* Release Date\n",
    "* Production Budget \n",
    "* Domestic Box Office Gross\n",
    "* Worldwide Box Office Gross\n"
   ]
  },
  {
   "cell_type": "markdown",
   "metadata": {},
   "source": [
    "### Genre Data\n",
    "OpusData provided a data set for free with the condition that it is used for educational purposes only. There were 1,936 film listings provided from which we primarily used the genre information."
   ]
  },
  {
   "cell_type": "markdown",
   "metadata": {},
   "source": [
    "### Run Time, Cast, and Director Data"
   ]
  },
  {
   "cell_type": "markdown",
   "metadata": {},
   "source": [
    "IMDb.com makes some of its data available at https://datasets.imdbws.com/, updated daily as compressed .tar.gz files.  These filed were accessed the morning of July 30th, 2019 and processed as a SQLite3 database, constructed and queried with IMDbPY, an unofficial API desgined for this purpose by Davide Alberani, *et al.* and made available via pip and conda."
   ]
  },
  {
   "cell_type": "markdown",
   "metadata": {},
   "source": [
    "## Data Analysis"
   ]
  },
  {
   "cell_type": "markdown",
   "metadata": {},
   "source": [
    "### Release Dates\n",
    "\n",
    "Prior to further analysis of release dates to narrow down an accetpable release window, we needed to calculate and add a comparable metric for our data. Percentage Return on Investment(% ROI) was selected and calculated per the formula:\n",
    "</br>\n",
    "<center>$\\frac{Domestic Gross - Production Budget}{Production Budget}\\cdot100$</center>\n",
    "</br>\n",
    "\n",
    "We chose to use only Domestic Gross in our calcuation rather than Worldwide Gross due to the fact that we did not have budget information pertaining to marketing or promotion of overseas releases.\n",
    "\n",
    "Using our release date data from The-Numbers.com, we were able to map which week each movie was released. To view the distribution of of ROI% over the weeks of the year we analyzed the plot below.\n",
    "\n",
    "![](ROI_by_Week2.jpg)\n",
    "\n",
    "Weeks with higher percentages of data below the break even line will be a gradient of blue, where as weeks with a higher percentage of data above the break even line will be a gradient of red. \n"
   ]
  },
  {
   "cell_type": "markdown",
   "metadata": {},
   "source": [
    "##### Genre\n",
    "\n",
    "In order to compare our financials by genre we first joined our budget dataframe and our genre dataframe. In doing so we were left with 1388 data points to analyze for the genre portion of the analysis. As with the release date, ROI% was used to compare performace across movie genre. The following plot shows the distribution of performance for each genre in our dataset. The plot is ordered from greatest median ROI% to lowest median ROI%. \n",
    "\n",
    "Although it can be seen that musicals are leading the pack there are only 20 musicals in this set of 1388 movies and may not be the best representation of the market. The next three top performing genres are: Comedies, Romantic Comedies, and Black Comedies. Since Romantic Comedies and Black Comdies are both subgenres of the Comedy genre, and their numbers were 52, and 15 respectively we have lumped all three genres together for our budget analysis.\n",
    "\n",
    "\n",
    "![](ROI_by_Genre.jpg)"
   ]
  },
  {
   "cell_type": "markdown",
   "metadata": {},
   "source": [
    "##### Budget\n",
    "\n",
    "To recommed an initial budget we analyzed the budgets of the 278 Comedies including Romantic Comedies and Black Comedies. We grouped the comedies into three ceetegories in comarison with the median budget of $35 million:\n",
    "* Below $23 Million\n",
    "* Between $23 and $46 Million\n",
    "* Above $46 Million\n",
    "\n",
    "These categories were calculated using the standard deviation of production budgets to create a $\\frac{\\sigma}{2}$ interval around the median.\n",
    "\n",
    "The plot below shows the distribution of Percentage Return on Investment for each subset.  \n",
    "\n",
    "![](ROI_by_Compared_Med.jpeg)\n",
    "\n",
    "\n"
   ]
  },
  {
   "cell_type": "markdown",
   "metadata": {},
   "source": [
    "### Runtime"
   ]
  },
  {
   "cell_type": "markdown",
   "metadata": {},
   "source": [
    "Rutimes for comedies have a median of 103 minutes, a mean of 104 minutes and a standard deviation of just under 13.5 minutes. The near-normal distribution tails into higher values, with a maximum of 180 minutes.\n",
    "When evaluated against % ROI, it appears that best results are achieved with films near the average length, with higher ROI being favored by longer runtimes. \n",
    "\n",
    "![](ROI_by_Runtime2.jpg)\n"
   ]
  },
  {
   "cell_type": "markdown",
   "metadata": {},
   "source": [
    "### Cast and Director"
   ]
  },
  {
   "cell_type": "markdown",
   "metadata": {},
   "source": [
    "The IMDb database lists the four top-billed members of the cast for each film listing, performers in comedic films may be evaluated based on the % ROI of the films in which they play a starring role. Shown below are the top 50 performers and top 20 directors by this metric."
   ]
  },
  {
   "cell_type": "markdown",
   "metadata": {},
   "source": [
    "#### Top performers by mean % ROI"
   ]
  },
  {
   "cell_type": "markdown",
   "metadata": {},
   "source": [
    "![](Top_20_Performers.JPG)"
   ]
  },
  {
   "cell_type": "markdown",
   "metadata": {},
   "source": [
    "![](Next_20_Performers.JPG)"
   ]
  },
  {
   "cell_type": "markdown",
   "metadata": {},
   "source": [
    "![](Next_10_Performers.JPG)"
   ]
  },
  {
   "cell_type": "markdown",
   "metadata": {},
   "source": [
    "#### Top directors by mean % ROI"
   ]
  },
  {
   "cell_type": "markdown",
   "metadata": {},
   "source": [
    "![](Top_20_Directors.JPG)"
   ]
  },
  {
   "cell_type": "markdown",
   "metadata": {},
   "source": [
    "### Final Recommendation"
   ]
  }
 ],
 "metadata": {
  "kernelspec": {
   "display_name": "Python 3",
   "language": "python",
   "name": "python3"
  },
  "language_info": {
   "codemirror_mode": {
    "name": "ipython",
    "version": 3
   },
   "file_extension": ".py",
   "mimetype": "text/x-python",
   "name": "python",
   "nbconvert_exporter": "python",
   "pygments_lexer": "ipython3",
   "version": "3.7.3"
  }
 },
 "nbformat": 4,
 "nbformat_minor": 2
}
