{
 "cells": [
  {
   "cell_type": "markdown",
   "metadata": {},
   "source": [
    "# Title"
   ]
  },
  {
   "cell_type": "markdown",
   "metadata": {},
   "source": [
    "### Data Sources"
   ]
  },
  {
   "cell_type": "markdown",
   "metadata": {},
   "source": [
    "##### Financial Data\n",
    "\n",
    "Our finacial data was scraped from [The Numbers: Where Data and the Movie Business Meet.](https://www.the-numbers.com/movie/budgets/all)The Numbers provided us with 2,700 movies paired with the following data:\n",
    "* Release Date\n",
    "* Production Budget \n",
    "* Domestic Gross\n",
    "* Worldwide Gross\n"
   ]
  },
  {
   "cell_type": "markdown",
   "metadata": {},
   "source": [
    "##### Genre Data\n",
    "Opus data provided us with a data set for free with the exception that it is used for educational purposes only. There were 1936 data points provided form which we primarily used the genre information."
   ]
  },
  {
   "cell_type": "markdown",
   "metadata": {},
   "source": [
    "##### Run Times, Cast and Directors"
   ]
  },
  {
   "cell_type": "markdown",
   "metadata": {},
   "source": [
    "### Data Analysis"
   ]
  },
  {
   "cell_type": "markdown",
   "metadata": {},
   "source": [
    "##### Release Dates\n",
    "\n",
    "Before we could analyze release dates to narrow down an accetpable release window we needed to calculate and add a compareable metric to our data. The metric we chose to use in our comparisons is the Percentage Return on Investment(ROI%) calculated as: <br/>\n",
    "<center>$\\frac{Domestic Gross - Production Budget}{Production Budget}\\cdot100$</center>\n",
    "<br/>\n",
    "We chose to use only domestic gross in our calcuation rather than worldwide gross due to the fact that we did not have budget information pertaining to marketing or promotion of overseas releases.\n",
    "\n",
    "Using our release date from The Numbers we were able to map which week each movie was released. To view the distribution of of ROI% over the weeks of the year we analyzed the plot below.\n",
    "\n",
    "![](ROI_by_Week.jpg)\n",
    "\n",
    "Weeks with higher percentages of data below the break even line will be a gradient of blue, where as weeks with a higher percentage of data above the break even line will be a gradient of red. \n"
   ]
  },
  {
   "cell_type": "markdown",
   "metadata": {},
   "source": [
    "##### Genre\n",
    "\n",
    "In order to compare our financials by genre we first joined our Budget dataframe and our Genre dataframe. In doing so we were left with 1388 data point to analyze for the genre portion of the analysis. As with the release date, ROI% was used to compare performace across movie genre. The following plot shows the distribution of performance for each genre in our dataset. The plot is ordered from greatest median ROI% to lowest median ROI%. \n",
    "\n",
    "Although it can be seen that musicals are leading the pack there are only 20 musicals in this set of 1388 movies and may not be the best representation of the market. The next three top performing genres are: Comedies, Romantic Comedies, and Black Comedies. Since Romantic Comedies and Black Comdies are both subgenres of the Comedy genre, and their numbers were 52, and 15 respectively we have lumped all three genres together for our budget analysis.\n",
    "\n",
    "\n",
    "![](ROI_by_Genre.jpg)"
   ]
  },
  {
   "cell_type": "markdown",
   "metadata": {},
   "source": [
    "##### Budget\n",
    "\n",
    "To recommed an initial budget we analyzed the budgets of the 278 Comedies including Romantic Comedies and Black Comedies. We grouped the comedies into three ceetegories in comarison with the median budget $35,000,000:\n",
    "* Below 23 Million\n",
    "* Between 23 and 46 Million\n",
    "* Above 46 Million\n",
    "\n",
    "These categories were calculated using the standard deviation of production budgets to create a $\\frac{\\sigma}{2}$ interval around the median.\n",
    "\n",
    "The plot below shows the distribution of Percentage Return on Investment for each subset.  \n",
    "\n",
    "![](ROI_by_Compared_Med.jpeg)\n",
    "\n",
    "\n"
   ]
  },
  {
   "cell_type": "markdown",
   "metadata": {},
   "source": [
    "##### Runtime"
   ]
  },
  {
   "cell_type": "markdown",
   "metadata": {},
   "source": [
    "##### Cast and Director"
   ]
  },
  {
   "cell_type": "markdown",
   "metadata": {},
   "source": [
    "### Final Recommendation"
   ]
  }
 ],
 "metadata": {
  "kernelspec": {
   "display_name": "Python 3",
   "language": "python",
   "name": "python3"
  },
  "language_info": {
   "codemirror_mode": {
    "name": "ipython",
    "version": 3
   },
   "file_extension": ".py",
   "mimetype": "text/x-python",
   "name": "python",
   "nbconvert_exporter": "python",
   "pygments_lexer": "ipython3",
   "version": "3.7.1"
  }
 },
 "nbformat": 4,
 "nbformat_minor": 2
}
