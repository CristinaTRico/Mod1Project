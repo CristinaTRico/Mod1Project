{
 "cells": [
  {
   "cell_type": "markdown",
   "metadata": {},
   "source": [
    "# Microsoft Studios: Data-driven recommendations for a profitable initial release"
   ]
  },
  {
   "cell_type": "markdown",
   "metadata": {},
   "source": [
    "## Data Sources"
   ]
  },
  {
   "cell_type": "markdown",
   "metadata": {},
   "source": [
    "### Financial Data"
   ]
  },
  {
   "cell_type": "markdown",
   "metadata": {},
   "source": [
    "The financial data was scraped from [The-Numbers: Where Data and the Movie Business Meet](https://www.the-numbers.com/movie/budgets/all), which yielded 2,700 films accompanied by the following data:\n",
    "* Release Date\n",
    "* Production Budget \n",
    "* Domestic Box Office Gross\n",
    "* Worldwide Box Office Gross\n"
   ]
  },
  {
   "cell_type": "markdown",
   "metadata": {},
   "source": [
    "### Genre Data"
   ]
  },
  {
   "cell_type": "markdown",
   "metadata": {},
   "source": [
    "OpusData provided a data set free of charge in response to an educational request with the condition that it is used for educational purposes only. There were 1,936 film listings provided, from which the genre classifications were obtained."
   ]
  },
  {
   "cell_type": "markdown",
   "metadata": {},
   "source": [
    "### Runtime and Personnel (Performer and Director) Data"
   ]
  },
  {
   "cell_type": "markdown",
   "metadata": {},
   "source": [
    "Information courtesy of\n",
    "IMDb\n",
    "(http://www.imdb.com).\n",
    "Used with permission.\n",
    "\n",
    "This data is made available at https://datasets.imdbws.com/, updated daily as compressed .tar.gz files.  These files were accessed on July 30th, 2019 and processed as a SQLite3 database, constructed and queried with IMDbPY, an unofficial API designed for this purpose by Davide Alberani, *et al.* and made available via pip and conda."
   ]
  },
  {
   "cell_type": "markdown",
   "metadata": {},
   "source": [
    "## Data Analysis"
   ]
  },
  {
   "cell_type": "markdown",
   "metadata": {},
   "source": [
    "### Establishment of Primary Metric: % ROI"
   ]
  },
  {
   "cell_type": "markdown",
   "metadata": {},
   "source": [
    "Prior to further analysis, percent return on investment (% ROI) was selected as the best means of evaluating responsible allocation of funds and calculated per the formula:\n",
    "</br>\n",
    "<center>$\\frac{Domestic  Gross - Production Budget}{Production Budget}\\cdot100$</center>\n",
    "</br>\n",
    "\n",
    "Consideration of Gross box office receipts were limited to domestic results because budget information pertaining to distribution, marketing or promotion of overseas releases was unavailable."
   ]
  },
  {
   "cell_type": "markdown",
   "metadata": {},
   "source": [
    "### Genre"
   ]
  },
  {
   "cell_type": "markdown",
   "metadata": {},
   "source": [
    "In order to assess financial performance by genre it was necessary initially to merge the financial dataframe and the genre dataframe. Doing so left 1,388 titles with the necessary data to assess aggregate performance by genre. % ROI was used to evaluate performace across movie genre. The following box plot shows the distribution of financial performance for each genre, presented in order of decreasing median % ROI. \n",
    "\n",
    "![](ROI_by_Genre.jpg)\n",
    "\n",
    "While musicals presented with the highest overall performance, there are only 20 musicals in this set of 1,388 films and may not be representative of the market. The next three highest performing genres were comedies, romantic comedies, and black comedies. Since romantic comedies and black comdies are both subgenres of comedy and their individual film counts were somewhat low (52 and 15, respectively), we have aggregated all three categories together for further analysis."
   ]
  },
  {
   "cell_type": "markdown",
   "metadata": {},
   "source": [
    "### Release Date"
   ]
  },
  {
   "cell_type": "markdown",
   "metadata": {},
   "source": [
    "Using the release date data from The-Numbers.com, financial performance could be mapped to each possible week of release. The distribution of of % ROI over the possible weeks of release is shown in the figure below.\n",
    "\n",
    "![](ROI_by_Week2.jpg)\n",
    "\n",
    "Weeks of release with a median value below the break even line are shaded in blue, while weeks with a median value above the break even line are shaded in red. \n",
    "\n",
    "Looking specifically at the release weeks for comedies, the figure below shows that a weekly analysis for movies for comedies roughly mirrors that of all genres.\n",
    "\n",
    "![](ROI_by_Week_Comedy.jpg)"
   ]
  },
  {
   "cell_type": "markdown",
   "metadata": {},
   "source": [
    "### Budget"
   ]
  },
  {
   "cell_type": "markdown",
   "metadata": {},
   "source": [
    "To recommend an initial budget range, the budgets of the 278 comedies, including romantic comedies and black comedies, were considered collectively. The films were grouped into three categories relative to the median budget of \\\\$35 million:\n",
    "* Below \\\\$23 million\n",
    "* Between \\\\$23 and \\\\$46 million\n",
    "* Above \\\\$46 million\n",
    "\n",
    "These threshold values were calculated using the standard deviation of production budgets to create a $\\frac{\\sigma}{2}$ interval around the median.\n",
    "\n",
    "The plot below shows the distribution of % ROI for each subset.  \n",
    "\n",
    "![](ROI_by_Compared_Med.jpeg)\n",
    "\n",
    "\n"
   ]
  },
  {
   "cell_type": "markdown",
   "metadata": {},
   "source": [
    "### Runtime"
   ]
  },
  {
   "cell_type": "markdown",
   "metadata": {},
   "source": [
    "Rutimes for comedies have a median of 103 minutes, a mean of 104 minutes and a standard deviation of just under 13.5 minutes. The near-normal distribution tails into higher values, with a maximum of 180 minutes as shown in the figure below.\n",
    "\n",
    "![](Runtime_Dist.jpg)"
   ]
  },
  {
   "cell_type": "markdown",
   "metadata": {},
   "source": [
    "When evaluated against % ROI, it may be seen that that best results are achieved with films near the average length, with higher ROI being favored by longer runtimes, as illustrated by the figure below. \n",
    "\n",
    "![](ROI_by_Runtime2.jpg)\n"
   ]
  },
  {
   "cell_type": "markdown",
   "metadata": {},
   "source": [
    "### Casting and Selection of Director"
   ]
  },
  {
   "cell_type": "markdown",
   "metadata": {},
   "source": [
    "The IMDb database lists the four top-billed members of the cast for each film listing, performers in comedic films may be evaluated based on the % ROI of the films in which they play a starring role. Shown below are the top 50 performers and top 20 directors by this metric."
   ]
  },
  {
   "cell_type": "markdown",
   "metadata": {},
   "source": [
    "#### Top 50 Performers by Mean % ROI"
   ]
  },
  {
   "cell_type": "markdown",
   "metadata": {},
   "source": [
    "![](Top_20_Performers.JPG)"
   ]
  },
  {
   "cell_type": "markdown",
   "metadata": {},
   "source": [
    "![](Next_20_Performers.JPG)"
   ]
  },
  {
   "cell_type": "markdown",
   "metadata": {},
   "source": [
    "![](Next_10_Performers.JPG)"
   ]
  },
  {
   "cell_type": "markdown",
   "metadata": {},
   "source": [
    "#### Top 20 Directors by Mean % ROI"
   ]
  },
  {
   "cell_type": "markdown",
   "metadata": {},
   "source": [
    "![](Top_20_Directors.JPG)"
   ]
  },
  {
   "cell_type": "markdown",
   "metadata": {},
   "source": [
    "### Final Recommendations"
   ]
  },
  {
   "cell_type": "markdown",
   "metadata": {},
   "source": [
    "Comedies are likely to be the safest choice of genre for an initial offering, and a release week between Memorial Day and Independence Day weekends has a solid track record for both comedies and movie attendance in general.  The production budget should be kept near typical industry values (23-46 million USD), erring on the low end to maximize ROI, and runtime should be allowed to extend somewhat away fom the mean of 104 minutes if warranted.  Choosing the director is safest from the provided list, and casting directors are encouraged to start searching from the provided list of performers."
   ]
  },
  {
   "cell_type": "markdown",
   "metadata": {},
   "source": [
    "## Any questions?"
   ]
  }
 ],
 "metadata": {
  "kernelspec": {
   "display_name": "Python 3",
   "language": "python",
   "name": "python3"
  },
  "language_info": {
   "codemirror_mode": {
    "name": "ipython",
    "version": 3
   },
   "file_extension": ".py",
   "mimetype": "text/x-python",
   "name": "python",
   "nbconvert_exporter": "python",
   "pygments_lexer": "ipython3",
   "version": "3.7.3"
  }
 },
 "nbformat": 4,
 "nbformat_minor": 2
}
